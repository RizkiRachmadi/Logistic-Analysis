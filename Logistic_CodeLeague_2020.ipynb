{
  "nbformat": 4,
  "nbformat_minor": 0,
  "metadata": {
    "colab": {
      "name": "Untitled6.ipynb",
      "provenance": []
    },
    "kernelspec": {
      "name": "python3",
      "display_name": "Python 3"
    }
  },
  "cells": [
    {
      "cell_type": "code",
      "metadata": {
        "colab": {
          "base_uri": "https://localhost:8080/"
        },
        "id": "98jghtu4eMP3",
        "outputId": "99f51900-5103-466f-8cdd-187248908b69"
      },
      "source": [
        "import pandas as pd\r\n",
        "import numpy as np\r\n",
        "import seaborn as sns\r\n",
        "import matplotlib.pyplot as plt\r\n",
        "from google.colab import drive\r\n",
        "drive.mount('/drive')"
      ],
      "execution_count": null,
      "outputs": [
        {
          "output_type": "stream",
          "text": [
            "Drive already mounted at /drive; to attempt to forcibly remount, call drive.mount(\"/drive\", force_remount=True).\n"
          ],
          "name": "stdout"
        }
      ]
    },
    {
      "cell_type": "markdown",
      "metadata": {
        "id": "Ji5gNjENeQtU"
      },
      "source": [
        "# **Importing Dataset**"
      ]
    },
    {
      "cell_type": "code",
      "metadata": {
        "colab": {
          "base_uri": "https://localhost:8080/"
        },
        "id": "Ro5LPjGpeOZR",
        "outputId": "b0c4f029-be56-43b4-dd8f-f2469a67ea44"
      },
      "source": [
        "dataset1 = pd.read_csv('/drive/My Drive/Colab Notebooks/delivery_orders_march.csv')\r\n",
        "dataset1.info()"
      ],
      "execution_count": null,
      "outputs": [
        {
          "output_type": "stream",
          "text": [
            "<class 'pandas.core.frame.DataFrame'>\n",
            "RangeIndex: 3176313 entries, 0 to 3176312\n",
            "Data columns (total 6 columns):\n",
            " #   Column               Dtype  \n",
            "---  ------               -----  \n",
            " 0   orderid              int64  \n",
            " 1   pick                 int64  \n",
            " 2   1st_deliver_attempt  float64\n",
            " 3   2nd_deliver_attempt  float64\n",
            " 4   buyeraddress         object \n",
            " 5   selleraddress        object \n",
            "dtypes: float64(2), int64(2), object(2)\n",
            "memory usage: 145.4+ MB\n"
          ],
          "name": "stdout"
        }
      ]
    },
    {
      "cell_type": "markdown",
      "metadata": {
        "id": "RQjo1J0a19us"
      },
      "source": [
        "# **Calculate timestamp**"
      ]
    },
    {
      "cell_type": "code",
      "metadata": {
        "id": "1SE2RTTKiENf"
      },
      "source": [
        "#converting the timestamp type into integer\r\n",
        "dataset['1st_deliver_attempt'] = dataset['1st_deliver_attempt'].astype('int64')\r\n",
        "dataset['2nd_deliver_attempt'] = dataset['2nd_deliver_attempt'].fillna(0)\r\n",
        "dataset['2nd_deliver_attempt'] = dataset['2nd_deliver_attempt'].astype('int64')"
      ],
      "execution_count": null,
      "outputs": []
    },
    {
      "cell_type": "code",
      "metadata": {
        "id": "TWZJhgNae9CO"
      },
      "source": [
        "#convert time sec\r\n",
        "dataset['pick'] = (dataset['pick'] + (3600*8))/(3600*24)\r\n",
        "dataset['1st_deliver_attempt'] = (dataset['1st_deliver_attempt'] + (3600*8))/(3600*24)\r\n",
        "dataset['2nd_deliver_attempt'] = (dataset['2nd_deliver_attempt'] + (3600*8))/(3600*24)\r\n",
        "dataset['2nd_deliver_attempt'] = dataset['2nd_deliver_attempt'].apply(lambda x: 0 if x<1 else x)"
      ],
      "execution_count": null,
      "outputs": []
    },
    {
      "cell_type": "code",
      "metadata": {
        "id": "9KZANve8hrZx"
      },
      "source": [
        "#converting time to day\r\n",
        "t1 = dataset['pick'].values.astype('datetime64[D]')\r\n",
        "t2 = dataset['1st_deliver_attempt'].values.astype('datetime64[D]')\r\n",
        "t3 = dataset['2nd_deliver_attempt'].values.astype('datetime64[D]')"
      ],
      "execution_count": null,
      "outputs": []
    },
    {
      "cell_type": "code",
      "metadata": {
        "id": "qkVdfSHuobQ9"
      },
      "source": [
        "#counting the day for sending the order\r\n",
        "dataset['Order 1'] = np.busday_count(t1,t2,'1111110',holidays=['2020-03-08','2020-03-25','2020-03-30','2020-03-31'])\r\n",
        "dataset['Order 2'] = np.busday_count(t2,t3,'1111110',holidays=['2020-03-08','2020-03-25','2020-03-30','2020-03-31'])"
      ],
      "execution_count": null,
      "outputs": []
    },
    {
      "cell_type": "code",
      "metadata": {
        "id": "N2_Jt4dT1mQ1"
      },
      "source": [
        "#converting non 2nd delivery day\r\n",
        "dataset['Order 2'] = dataset['Order 2'].apply(lambda x: 0 if x<1 else x)"
      ],
      "execution_count": null,
      "outputs": []
    },
    {
      "cell_type": "markdown",
      "metadata": {
        "id": "gBaCwtZj5Uhd"
      },
      "source": [
        "# **Converting Address**"
      ]
    },
    {
      "cell_type": "code",
      "metadata": {
        "id": "VGzZJoNNhpY7"
      },
      "source": [
        "sla_matrix_1st_attempt = [\r\n",
        "    [3, 5, 7, 7],\r\n",
        "    [5, 5, 7, 7],\r\n",
        "    [7, 7, 7, 7],\r\n",
        "    [7, 7, 7, 7],\r\n",
        "]\r\n",
        "locations = [\"Metro Manila\", \"Luzon\", \"Visayas\", \"Mindanao\"]\r\n",
        "locations = [loc.lower() for loc in locations]\r\n",
        "min_length = min(map(len, locations))\r\n",
        "trunc_location_to_index = {loc[-min_length:]: i for i, loc in enumerate(locations)}"
      ],
      "execution_count": null,
      "outputs": []
    },
    {
      "cell_type": "code",
      "metadata": {
        "id": "8D3mOGv62yeK"
      },
      "source": [
        "# convert address to index\r\n",
        "dataset['buyeraddress'] = dataset['buyeraddress'].apply(lambda s: s[-min_length:].lower()).map(trunc_location_to_index)\r\n",
        "dataset['selleraddress'] = dataset['selleraddress'].apply(lambda s: s[-min_length:].lower()).map(trunc_location_to_index)"
      ],
      "execution_count": null,
      "outputs": []
    },
    {
      "cell_type": "markdown",
      "metadata": {
        "id": "ctFSaeGn5oLS"
      },
      "source": [
        "# **Calculating SLA Based Delayed Order**"
      ]
    },
    {
      "cell_type": "code",
      "metadata": {
        "id": "JTfaquJ54jY5"
      },
      "source": [
        "Order1 = np.array(dataset['Order 1'])\r\n",
        "Order2 = np.array(dataset['Order 2'])\r\n",
        "Index1 = np.array(dataset['buyeraddress'])\r\n",
        "Index2 = np.array(dataset['selleraddress'])"
      ],
      "execution_count": null,
      "outputs": []
    },
    {
      "cell_type": "code",
      "metadata": {
        "id": "YTTJGLaR5_6d"
      },
      "source": [
        "orderlate = []\r\n",
        "for j in range(len(Index1)):\r\n",
        "  if Order2[j] > 0:\r\n",
        "    if Order2[j] > 3 :\r\n",
        "      orderlate.append(1)\r\n",
        "    else:\r\n",
        "      orderlate.append(0)\r\n",
        "  else:\r\n",
        "    Index_1 = Index1[j]\r\n",
        "    Index_2 = Index2[j]\r\n",
        "    threshold = sla_matrix_1st_attempt[Index_1][Index_2]\r\n",
        "    if Order1[j] > threshold:\r\n",
        "      orderlate.append(1)\r\n",
        "    else:\r\n",
        "      orderlate.append(0)"
      ],
      "execution_count": null,
      "outputs": []
    },
    {
      "cell_type": "markdown",
      "metadata": {
        "id": "xSnr7KLK90PP"
      },
      "source": [
        "# **Saving The File**"
      ]
    },
    {
      "cell_type": "code",
      "metadata": {
        "id": "9kV1QEWA6u0F"
      },
      "source": [
        "result = pd.DataFrame({'orderid':dataset['orderid'], 'is_late': orderlate})\r\n",
        "result.to_csv('/drive/My Drive/Colab Notebooks/Logis1.csv', index=False)"
      ],
      "execution_count": null,
      "outputs": []
    },
    {
      "cell_type": "markdown",
      "metadata": {
        "id": "qXhFsTPl-6zi"
      },
      "source": [
        "# **Checking the answer**"
      ]
    },
    {
      "cell_type": "code",
      "metadata": {
        "colab": {
          "base_uri": "https://localhost:8080/",
          "height": 204
        },
        "id": "Ws5wDLbE8tNf",
        "outputId": "f36ffd01-ef0f-4776-b8d7-8a1e2d9c0d7a"
      },
      "source": [
        "dataset.tail()"
      ],
      "execution_count": null,
      "outputs": [
        {
          "output_type": "execute_result",
          "data": {
            "text/html": [
              "<div>\n",
              "<style scoped>\n",
              "    .dataframe tbody tr th:only-of-type {\n",
              "        vertical-align: middle;\n",
              "    }\n",
              "\n",
              "    .dataframe tbody tr th {\n",
              "        vertical-align: top;\n",
              "    }\n",
              "\n",
              "    .dataframe thead th {\n",
              "        text-align: right;\n",
              "    }\n",
              "</style>\n",
              "<table border=\"1\" class=\"dataframe\">\n",
              "  <thead>\n",
              "    <tr style=\"text-align: right;\">\n",
              "      <th></th>\n",
              "      <th>orderid</th>\n",
              "      <th>pick</th>\n",
              "      <th>1st_deliver_attempt</th>\n",
              "      <th>2nd_deliver_attempt</th>\n",
              "      <th>buyeraddress</th>\n",
              "      <th>selleraddress</th>\n",
              "      <th>Order 1</th>\n",
              "      <th>Order 2</th>\n",
              "    </tr>\n",
              "  </thead>\n",
              "  <tbody>\n",
              "    <tr>\n",
              "      <th>3176308</th>\n",
              "      <td>31504087640510</td>\n",
              "      <td>18354.751481</td>\n",
              "      <td>18356.557199</td>\n",
              "      <td>0.000000</td>\n",
              "      <td>0</td>\n",
              "      <td>0</td>\n",
              "      <td>2</td>\n",
              "      <td>0</td>\n",
              "    </tr>\n",
              "    <tr>\n",
              "      <th>3176309</th>\n",
              "      <td>31504147352227</td>\n",
              "      <td>18355.599664</td>\n",
              "      <td>18358.887118</td>\n",
              "      <td>18359.494572</td>\n",
              "      <td>0</td>\n",
              "      <td>0</td>\n",
              "      <td>2</td>\n",
              "      <td>1</td>\n",
              "    </tr>\n",
              "    <tr>\n",
              "      <th>3176310</th>\n",
              "      <td>31504462290482</td>\n",
              "      <td>18354.811933</td>\n",
              "      <td>18356.413657</td>\n",
              "      <td>0.000000</td>\n",
              "      <td>0</td>\n",
              "      <td>0</td>\n",
              "      <td>2</td>\n",
              "      <td>0</td>\n",
              "    </tr>\n",
              "    <tr>\n",
              "      <th>3176311</th>\n",
              "      <td>31504851495943</td>\n",
              "      <td>18355.555486</td>\n",
              "      <td>18359.471667</td>\n",
              "      <td>0.000000</td>\n",
              "      <td>1</td>\n",
              "      <td>0</td>\n",
              "      <td>3</td>\n",
              "      <td>0</td>\n",
              "    </tr>\n",
              "    <tr>\n",
              "      <th>3176312</th>\n",
              "      <td>31505199116340</td>\n",
              "      <td>18354.776887</td>\n",
              "      <td>18358.584977</td>\n",
              "      <td>18359.484259</td>\n",
              "      <td>1</td>\n",
              "      <td>0</td>\n",
              "      <td>3</td>\n",
              "      <td>1</td>\n",
              "    </tr>\n",
              "  </tbody>\n",
              "</table>\n",
              "</div>"
            ],
            "text/plain": [
              "                orderid          pick  ...  Order 1  Order 2\n",
              "3176308  31504087640510  18354.751481  ...        2        0\n",
              "3176309  31504147352227  18355.599664  ...        2        1\n",
              "3176310  31504462290482  18354.811933  ...        2        0\n",
              "3176311  31504851495943  18355.555486  ...        3        0\n",
              "3176312  31505199116340  18354.776887  ...        3        1\n",
              "\n",
              "[5 rows x 8 columns]"
            ]
          },
          "metadata": {
            "tags": []
          },
          "execution_count": 68
        }
      ]
    },
    {
      "cell_type": "code",
      "metadata": {
        "colab": {
          "base_uri": "https://localhost:8080/",
          "height": 204
        },
        "id": "sVyXC_Eo8u2Y",
        "outputId": "4f717fdc-e1f0-48f6-da0f-8a8fea4c3762"
      },
      "source": [
        "result.tail()"
      ],
      "execution_count": null,
      "outputs": [
        {
          "output_type": "execute_result",
          "data": {
            "text/html": [
              "<div>\n",
              "<style scoped>\n",
              "    .dataframe tbody tr th:only-of-type {\n",
              "        vertical-align: middle;\n",
              "    }\n",
              "\n",
              "    .dataframe tbody tr th {\n",
              "        vertical-align: top;\n",
              "    }\n",
              "\n",
              "    .dataframe thead th {\n",
              "        text-align: right;\n",
              "    }\n",
              "</style>\n",
              "<table border=\"1\" class=\"dataframe\">\n",
              "  <thead>\n",
              "    <tr style=\"text-align: right;\">\n",
              "      <th></th>\n",
              "      <th>orderid</th>\n",
              "      <th>is_late</th>\n",
              "    </tr>\n",
              "  </thead>\n",
              "  <tbody>\n",
              "    <tr>\n",
              "      <th>3176308</th>\n",
              "      <td>31504087640510</td>\n",
              "      <td>0</td>\n",
              "    </tr>\n",
              "    <tr>\n",
              "      <th>3176309</th>\n",
              "      <td>31504147352227</td>\n",
              "      <td>0</td>\n",
              "    </tr>\n",
              "    <tr>\n",
              "      <th>3176310</th>\n",
              "      <td>31504462290482</td>\n",
              "      <td>0</td>\n",
              "    </tr>\n",
              "    <tr>\n",
              "      <th>3176311</th>\n",
              "      <td>31504851495943</td>\n",
              "      <td>0</td>\n",
              "    </tr>\n",
              "    <tr>\n",
              "      <th>3176312</th>\n",
              "      <td>31505199116340</td>\n",
              "      <td>0</td>\n",
              "    </tr>\n",
              "  </tbody>\n",
              "</table>\n",
              "</div>"
            ],
            "text/plain": [
              "                orderid  is_late\n",
              "3176308  31504087640510        0\n",
              "3176309  31504147352227        0\n",
              "3176310  31504462290482        0\n",
              "3176311  31504851495943        0\n",
              "3176312  31505199116340        0"
            ]
          },
          "metadata": {
            "tags": []
          },
          "execution_count": 69
        }
      ]
    },
    {
      "cell_type": "markdown",
      "metadata": {
        "id": "77X239k3amsC"
      },
      "source": [
        "5 last entry show that there are no delayed order, thus is_late status for 5 entries in the result is 0"
      ]
    },
    {
      "cell_type": "code",
      "metadata": {
        "id": "OqC0cmV7axXA"
      },
      "source": [
        ""
      ],
      "execution_count": null,
      "outputs": []
    }
  ]
}